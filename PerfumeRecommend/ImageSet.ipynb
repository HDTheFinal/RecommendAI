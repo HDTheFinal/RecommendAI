{
 "cells": [
  {
   "attachments": {},
   "cell_type": "markdown",
   "metadata": {},
   "source": [
    "# 이미지 정리 \n",
    "깨진 이미지, 되면 안 되는 이미지 정리 및 삭제"
   ]
  },
  {
   "attachments": {},
   "cell_type": "markdown",
   "metadata": {},
   "source": [
    "# 다중 폴더(depth2)"
   ]
  },
  {
   "cell_type": "code",
   "execution_count": 5,
   "metadata": {},
   "outputs": [],
   "source": [
    "import os\n",
    "from PIL import Image\n",
    "folder_path = 'C:/Users/KOSA/Desktop/THEFINAL/RecommendAI/Recommend'\n",
    "extensions = []\n",
    "for fldr in os.listdir(folder_path):\n",
    "    sub_folder_path = os.path.join(folder_path, fldr)\n",
    "    for filee in os.listdir(sub_folder_path):\n",
    "        file_path = os.path.join(sub_folder_path, filee)\n",
    "        # print(file_path)\n",
    "        for img in os.listdir(file_path):\n",
    "            imgPath = os.path.join(file_path, img)\n",
    "            try:\n",
    "                im = Image.open(imgPath)\n",
    "            except:\n",
    "                print('Error occur on ' + imgPath)\n",
    "                print(imgPath)\n",
    "                # try:\n",
    "                #     # os.remove(imgPath)\n",
    "                #     print(imgPath + \" 삭제실패\")\n",
    "                # except:\n",
    "                #     print(imgPath + \"삭제실패\")\n",
    "\n",
    "    "
   ]
  },
  {
   "attachments": {},
   "cell_type": "markdown",
   "metadata": {},
   "source": [
    "# 단일 폴더"
   ]
  },
  {
   "cell_type": "code",
   "execution_count": null,
   "metadata": {},
   "outputs": [],
   "source": [
    "import os\n",
    "from PIL import Image\n",
    "folder_path = 'C:/Users/KOSA/Desktop/THEFINAL/RecommendAI/Recommend/train/Modern/'\n",
    "extensions = []\n",
    "for filee in os.listdir(folder_path):\n",
    "    file_path = os.path.join(folder_path, filee)\n",
    "    # print(file_path)\n",
    "    try:\n",
    "        # print(file_path)\n",
    "        im = Image.open(imgPath)\n",
    "    except:\n",
    "        print('Error occur on ' + imgPath)\n",
    "        # try:\n",
    "        #     os.remove(imgPath)\n",
    "        #     print(imgPath + \" 삭제성공\")\n",
    "        # except:\n",
    "        #     print(imgPath + \"삭제실패\")"
   ]
  }
 ],
 "metadata": {
  "kernelspec": {
   "display_name": "perfumeVenv",
   "language": "python",
   "name": "python3"
  },
  "language_info": {
   "codemirror_mode": {
    "name": "ipython",
    "version": 3
   },
   "file_extension": ".py",
   "mimetype": "text/x-python",
   "name": "python",
   "nbconvert_exporter": "python",
   "pygments_lexer": "ipython3",
   "version": "3.9.16"
  },
  "orig_nbformat": 4
 },
 "nbformat": 4,
 "nbformat_minor": 2
}
